{
 "cells": [
  {
   "cell_type": "code",
   "execution_count": 1,
   "metadata": {},
   "outputs": [
    {
     "name": "stdout",
     "output_type": "stream",
     "text": [
      "\u001b[33mDEPRECATION: Python 2.7 will reach the end of its life on January 1st, 2020. Please upgrade your Python as Python 2.7 won't be maintained after that date. A future version of pip will drop support for Python 2.7.\u001b[0m\n",
      "Requirement already satisfied: requests in ./Library/Python/2.7/lib/python/site-packages (2.21.0)\n",
      "Requirement already satisfied: urllib3<1.25,>=1.21.1 in ./Library/Python/2.7/lib/python/site-packages (from requests) (1.24.1)\n",
      "Requirement already satisfied: certifi>=2017.4.17 in ./Library/Python/2.7/lib/python/site-packages (from requests) (2018.11.29)\n",
      "Requirement already satisfied: chardet<3.1.0,>=3.0.2 in ./Library/Python/2.7/lib/python/site-packages (from requests) (3.0.4)\n",
      "Requirement already satisfied: idna<2.9,>=2.5 in ./Library/Python/2.7/lib/python/site-packages (from requests) (2.8)\n"
     ]
    }
   ],
   "source": [
    "!pip install requests\n"
   ]
  },
  {
   "cell_type": "code",
   "execution_count": 3,
   "metadata": {},
   "outputs": [
    {
     "name": "stdout",
     "output_type": "stream",
     "text": [
      "\u001b[33mDEPRECATION: Python 2.7 will reach the end of its life on January 1st, 2020. Please upgrade your Python as Python 2.7 won't be maintained after that date. A future version of pip will drop support for Python 2.7.\u001b[0m\n",
      "Collecting tabulate\n",
      "Installing collected packages: tabulate\n",
      "\u001b[33m  The script tabulate is installed in '/Users/erin/Library/Python/2.7/bin' which is not on PATH.\n",
      "  Consider adding this directory to PATH or, if you prefer to suppress this warning, use --no-warn-script-location.\u001b[0m\n",
      "Successfully installed tabulate-0.8.3\n"
     ]
    }
   ],
   "source": [
    "! pip install tabulate --user"
   ]
  },
  {
   "cell_type": "code",
   "execution_count": 4,
   "metadata": {},
   "outputs": [
    {
     "name": "stdout",
     "output_type": "stream",
     "text": [
      "\u001b[33mDEPRECATION: Python 2.7 will reach the end of its life on January 1st, 2020. Please upgrade your Python as Python 2.7 won't be maintained after that date. A future version of pip will drop support for Python 2.7.\u001b[0m\n",
      "Collecting scikit-learn\n",
      "  Using cached https://files.pythonhosted.org/packages/07/42/a01e4b3eb29cb48f759ea706f65515beb9a149ac248eaa4055a8f6dc989f/scikit_learn-0.20.3-cp27-cp27m-macosx_10_6_intel.macosx_10_9_intel.macosx_10_9_x86_64.macosx_10_10_intel.macosx_10_10_x86_64.whl\n",
      "Requirement already satisfied: numpy>=1.8.2 in /Library/Python/2.7/site-packages (from scikit-learn) (1.16.1)\n",
      "Collecting scipy>=0.13.3 (from scikit-learn)\n",
      "  Using cached https://files.pythonhosted.org/packages/85/70/9f8f1e9ed9fd33b96bb27fb080171fb571f7d33fecbd857e9f504e6dcc9a/scipy-1.2.1-cp27-cp27m-macosx_10_6_intel.macosx_10_9_intel.macosx_10_9_x86_64.macosx_10_10_intel.macosx_10_10_x86_64.whl\n",
      "Installing collected packages: scipy, scikit-learn\n",
      "  Found existing installation: scipy 0.13.0b1\n",
      "\u001b[31mCannot uninstall 'scipy'. It is a distutils installed project and thus we cannot accurately determine which files belong to it which would lead to only a partial uninstall.\u001b[0m\n"
     ]
    }
   ],
   "source": [
    "!pip install scikit-learn"
   ]
  },
  {
   "cell_type": "code",
   "execution_count": 6,
   "metadata": {},
   "outputs": [
    {
     "name": "stdout",
     "output_type": "stream",
     "text": [
      "\u001b[33mDEPRECATION: Python 2.7 will reach the end of its life on January 1st, 2020. Please upgrade your Python as Python 2.7 won't be maintained after that date. A future version of pip will drop support for Python 2.7.\u001b[0m\n",
      "Looking in links: http://h2o-release.s3.amazonaws.com/h2o/latest_stable_Py.html\n",
      "Collecting h2o\n",
      "\u001b[33m  The repository located at h2o-release.s3.amazonaws.com is not a trusted or secure host and is being ignored. If this repository is available via HTTPS we recommend you use HTTPS instead, otherwise you may silence this warning and allow it anyway with '--trusted-host h2o-release.s3.amazonaws.com'.\u001b[0m\n",
      "Collecting future (from h2o)\n",
      "\u001b[33m  The repository located at h2o-release.s3.amazonaws.com is not a trusted or secure host and is being ignored. If this repository is available via HTTPS we recommend you use HTTPS instead, otherwise you may silence this warning and allow it anyway with '--trusted-host h2o-release.s3.amazonaws.com'.\u001b[0m\n",
      "Requirement already satisfied: requests in ./Library/Python/2.7/lib/python/site-packages (from h2o) (2.21.0)\n",
      "Collecting colorama>=0.3.8 (from h2o)\n",
      "\u001b[33m  The repository located at h2o-release.s3.amazonaws.com is not a trusted or secure host and is being ignored. If this repository is available via HTTPS we recommend you use HTTPS instead, otherwise you may silence this warning and allow it anyway with '--trusted-host h2o-release.s3.amazonaws.com'.\u001b[0m\n",
      "  Using cached https://files.pythonhosted.org/packages/4f/a6/728666f39bfff1719fc94c481890b2106837da9318031f71a8424b662e12/colorama-0.4.1-py2.py3-none-any.whl\n",
      "Requirement already satisfied: tabulate in ./Library/Python/2.7/lib/python/site-packages (from h2o) (0.8.3)\n",
      "Requirement already satisfied: urllib3<1.25,>=1.21.1 in ./Library/Python/2.7/lib/python/site-packages (from requests->h2o) (1.24.1)\n",
      "Requirement already satisfied: certifi>=2017.4.17 in ./Library/Python/2.7/lib/python/site-packages (from requests->h2o) (2018.11.29)\n",
      "Requirement already satisfied: chardet<3.1.0,>=3.0.2 in ./Library/Python/2.7/lib/python/site-packages (from requests->h2o) (3.0.4)\n",
      "Requirement already satisfied: idna<2.9,>=2.5 in ./Library/Python/2.7/lib/python/site-packages (from requests->h2o) (2.8)\n",
      "Installing collected packages: future, colorama, h2o\n",
      "\u001b[33m  The scripts futurize and pasteurize are installed in '/Users/erin/Library/Python/2.7/bin' which is not on PATH.\n",
      "  Consider adding this directory to PATH or, if you prefer to suppress this warning, use --no-warn-script-location.\u001b[0m\n",
      "Successfully installed colorama-0.4.1 future-0.17.1 h2o-3.22.1.6\n"
     ]
    }
   ],
   "source": [
    "!pip install -f http://h2o-release.s3.amazonaws.com/h2o/latest_stable_Py.html h2o --user"
   ]
  },
  {
   "cell_type": "code",
   "execution_count": 28,
   "metadata": {},
   "outputs": [
    {
     "name": "stdout",
     "output_type": "stream",
     "text": [
      "Checking whether there is an H2O instance running at http://localhost:54321. connected.\n"
     ]
    },
    {
     "data": {
      "text/html": [
       "<div style=\"overflow:auto\"><table style=\"width:50%\"><tr><td>H2O cluster uptime:</td>\n",
       "<td>1 hour 23 mins</td></tr>\n",
       "<tr><td>H2O cluster timezone:</td>\n",
       "<td>America/New_York</td></tr>\n",
       "<tr><td>H2O data parsing timezone:</td>\n",
       "<td>UTC</td></tr>\n",
       "<tr><td>H2O cluster version:</td>\n",
       "<td>3.22.1.6</td></tr>\n",
       "<tr><td>H2O cluster version age:</td>\n",
       "<td>9 days </td></tr>\n",
       "<tr><td>H2O cluster name:</td>\n",
       "<td>H2O_from_python_erin_y0cm9g</td></tr>\n",
       "<tr><td>H2O cluster total nodes:</td>\n",
       "<td>1</td></tr>\n",
       "<tr><td>H2O cluster free memory:</td>\n",
       "<td>1.475 Gb</td></tr>\n",
       "<tr><td>H2O cluster total cores:</td>\n",
       "<td>4</td></tr>\n",
       "<tr><td>H2O cluster allowed cores:</td>\n",
       "<td>4</td></tr>\n",
       "<tr><td>H2O cluster status:</td>\n",
       "<td>locked, healthy</td></tr>\n",
       "<tr><td>H2O connection url:</td>\n",
       "<td>http://localhost:54321</td></tr>\n",
       "<tr><td>H2O connection proxy:</td>\n",
       "<td>None</td></tr>\n",
       "<tr><td>H2O internal security:</td>\n",
       "<td>False</td></tr>\n",
       "<tr><td>H2O API Extensions:</td>\n",
       "<td>Amazon S3, XGBoost, Algos, AutoML, Core V3, Core V4</td></tr>\n",
       "<tr><td>Python version:</td>\n",
       "<td>2.7.10 final</td></tr></table></div>"
      ],
      "text/plain": [
       "--------------------------  ---------------------------------------------------\n",
       "H2O cluster uptime:         1 hour 23 mins\n",
       "H2O cluster timezone:       America/New_York\n",
       "H2O data parsing timezone:  UTC\n",
       "H2O cluster version:        3.22.1.6\n",
       "H2O cluster version age:    9 days\n",
       "H2O cluster name:           H2O_from_python_erin_y0cm9g\n",
       "H2O cluster total nodes:    1\n",
       "H2O cluster free memory:    1.475 Gb\n",
       "H2O cluster total cores:    4\n",
       "H2O cluster allowed cores:  4\n",
       "H2O cluster status:         locked, healthy\n",
       "H2O connection url:         http://localhost:54321\n",
       "H2O connection proxy:\n",
       "H2O internal security:      False\n",
       "H2O API Extensions:         Amazon S3, XGBoost, Algos, AutoML, Core V3, Core V4\n",
       "Python version:             2.7.10 final\n",
       "--------------------------  ---------------------------------------------------"
      ]
     },
     "metadata": {},
     "output_type": "display_data"
    }
   ],
   "source": [
    "import h2o\n",
    "from h2o.automl import H2OAutoML\n",
    "import numpy as np\n",
    "import pandas as pd\n",
    "from h2o.estimators import H2ORandomForestEstimator\n",
    "\n",
    "h2o.init()"
   ]
  },
  {
   "cell_type": "code",
   "execution_count": 56,
   "metadata": {},
   "outputs": [
    {
     "name": "stdout",
     "output_type": "stream",
     "text": [
      "Parse progress: |█████████████████████████████████████████████████████████| 100%\n"
     ]
    }
   ],
   "source": [
    "docker_data_path = \"FeatureEnggToDo.csv\"\n",
    "data_path = docker_data_path\n",
    "\n",
    "# Load data into H2O\n",
    "df = h2o.import_file(data_path)\n",
    "x=df.columns\n",
    "y=\"issue_d\"\n",
    "x.remove(y)\n",
    "y=\"installment\"\n",
    "x.remove(y)\n",
    "y=\"dti\"\n",
    "x.remove(y)\n",
    "y=\"out_prncp\"\n",
    "x.remove(y)\n",
    "y=\"total_pymnt\"\n",
    "x.remove(y)\n",
    "y=\"total_pymnt_inv\"\n",
    "x.remove(y)\n",
    "\n",
    "df = df[x]"
   ]
  },
  {
   "cell_type": "code",
   "execution_count": 57,
   "metadata": {
    "scrolled": true
   },
   "outputs": [],
   "source": [
    "dfpd = df.as_data_frame()\n"
   ]
  },
  {
   "cell_type": "code",
   "execution_count": 58,
   "metadata": {},
   "outputs": [],
   "source": [
    "dfpd.drop(columns=['C1'],inplace=True)"
   ]
  },
  {
   "cell_type": "code",
   "execution_count": 59,
   "metadata": {
    "scrolled": true
   },
   "outputs": [
    {
     "name": "stdout",
     "output_type": "stream",
     "text": [
      "Rows:887350\n",
      "Cols:33\n",
      "\n",
      "\n"
     ]
    },
    {
     "data": {
      "text/html": [
       "<table>\n",
       "<thead>\n",
       "<tr><th>       </th><th>C1           </th><th>loan_amnt    </th><th>term         </th><th>int_rate     </th><th>sub_grade    </th><th>emp_length   </th><th>annual_inc   </th><th>delinq_2yrs   </th><th>open_acc     </th><th>total_acc    </th><th>acc_now_delinq  </th><th>OwnerOf_MORTGAGE  </th><th>OwnerOf_NONE    </th><th>OwnerOf_OTHER    </th><th>OwnerOf_OWN   </th><th>OwnerOf_RENT  </th><th>List_Status_w  </th><th>Application_JOINT  </th><th>verification_status_Source Verified  </th><th>verification_status_Verified  </th><th>purpose_credit_card  </th><th>purpose_debt_consolidation  </th><th>purpose_educational  </th><th>purpose_home_improvement  </th><th>purpose_house   </th><th>purpose_major_purchase  </th><th>purpose_medical  </th><th>purpose_moving  </th><th>purpose_other  </th><th>purpose_renewable_energy  </th><th>purpose_small_business  </th><th>purpose_vacation  </th><th>purpose_wedding  </th></tr>\n",
       "</thead>\n",
       "<tbody>\n",
       "<tr><td>type   </td><td>int          </td><td>int          </td><td>int          </td><td>real         </td><td>int          </td><td>int          </td><td>int          </td><td>int           </td><td>int          </td><td>int          </td><td>int             </td><td>int               </td><td>int             </td><td>int              </td><td>int           </td><td>int           </td><td>int            </td><td>int                </td><td>int                                  </td><td>int                           </td><td>int                  </td><td>int                         </td><td>int                  </td><td>int                       </td><td>int             </td><td>int                     </td><td>int              </td><td>int             </td><td>int            </td><td>int                       </td><td>int                     </td><td>int               </td><td>int              </td></tr>\n",
       "<tr><td>mins   </td><td>0.0          </td><td>500.0        </td><td>36.0         </td><td>5.32         </td><td>0.0          </td><td>0.0          </td><td>0.0          </td><td>0.0           </td><td>0.0          </td><td>1.0          </td><td>0.0             </td><td>0.0               </td><td>0.0             </td><td>0.0              </td><td>0.0           </td><td>0.0           </td><td>0.0            </td><td>0.0                </td><td>0.0                                  </td><td>0.0                           </td><td>0.0                  </td><td>0.0                         </td><td>0.0                  </td><td>0.0                       </td><td>0.0             </td><td>0.0                     </td><td>0.0              </td><td>0.0             </td><td>0.0            </td><td>0.0                       </td><td>0.0                     </td><td>0.0               </td><td>0.0              </td></tr>\n",
       "<tr><td>mean   </td><td>443702.111152</td><td>14755.6192596</td><td>43.2013252944</td><td>13.2468663211</td><td>10.9600664901</td><td>5.78484363554</td><td>75027.6906102</td><td>0.3144418775  </td><td>11.548469037 </td><td>25.2680261453</td><td>0.00499126612949</td><td>0.499859131121    </td><td>5.1839747563e-05</td><td>0.000205105088184</td><td>0.098573279991</td><td>0.401307263199</td><td>0.485187355609 </td><td>0.000575871978363  </td><td>0.371395728856                       </td><td>0.328022764411                </td><td>0.232357018088       </td><td>0.590763509326              </td><td>0.000476700287373    </td><td>0.05840874514             </td><td>0.00417760748295</td><td>0.019470333014          </td><td>0.00962416183017 </td><td>0.00610131289795</td><td>0.0483078830225</td><td>0.000647996844537         </td><td>0.0116943708796         </td><td>0.00533724009692  </td><td>0.00264495407675 </td></tr>\n",
       "<tr><td>maxs   </td><td>887378.0     </td><td>35000.0      </td><td>60.0         </td><td>28.99        </td><td>34.0         </td><td>10.0         </td><td>9500000.0    </td><td>39.0          </td><td>90.0         </td><td>169.0        </td><td>14.0            </td><td>1.0               </td><td>1.0             </td><td>1.0              </td><td>1.0           </td><td>1.0           </td><td>1.0            </td><td>1.0                </td><td>1.0                                  </td><td>1.0                           </td><td>1.0                  </td><td>1.0                         </td><td>1.0                  </td><td>1.0                       </td><td>1.0             </td><td>1.0                     </td><td>1.0              </td><td>1.0             </td><td>1.0            </td><td>1.0                       </td><td>1.0                     </td><td>1.0               </td><td>1.0              </td></tr>\n",
       "<tr><td>sigma  </td><td>256158.315436</td><td>8435.35470063</td><td>10.9987661763</td><td>4.38187301513</td><td>6.4930206528 </td><td>3.69574921486</td><td>64698.3012921</td><td>0.862243840202</td><td>5.31731312451</td><td>11.8405610625</td><td>0.0776253447948 </td><td>0.500000261894    </td><td>0.00719979990149</td><td>0.01432002972    </td><td>0.298088390582</td><td>0.49016325287 </td><td>0.499780819017 </td><td>0.0239904355616    </td><td>0.483178232687                       </td><td>0.469493427905                </td><td>0.422335690233       </td><td>0.49169325583               </td><td>0.0218282748098      </td><td>0.234514872898            </td><td>0.0644993005154 </td><td>0.138171128175          </td><td>0.0976296475504  </td><td>0.0778722910464 </td><td>0.21441614508  </td><td>0.0254475475128           </td><td>0.107506397922          </td><td>0.0728612376218   </td><td>0.0513610870945  </td></tr>\n",
       "<tr><td>zeros  </td><td>1            </td><td>0            </td><td>0            </td><td>0            </td><td>22912        </td><td>44825        </td><td>2            </td><td>716961        </td><td>7            </td><td>0            </td><td>883236          </td><td>443800            </td><td>887304          </td><td>887168           </td><td>799881        </td><td>531250        </td><td>456819         </td><td>886839             </td><td>557792                               </td><td>596279                        </td><td>681168               </td><td>363136                      </td><td>886927               </td><td>835521                    </td><td>883643          </td><td>870073                  </td><td>878810           </td><td>881936          </td><td>844484         </td><td>886775                    </td><td>876973                  </td><td>882614            </td><td>885003           </td></tr>\n",
       "<tr><td>missing</td><td>0            </td><td>0            </td><td>0            </td><td>0            </td><td>0            </td><td>0            </td><td>0            </td><td>0             </td><td>0            </td><td>0            </td><td>0               </td><td>0                 </td><td>0               </td><td>0                </td><td>0             </td><td>0             </td><td>0              </td><td>0                  </td><td>0                                    </td><td>0                             </td><td>0                    </td><td>0                           </td><td>0                    </td><td>0                         </td><td>0               </td><td>0                       </td><td>0                </td><td>0               </td><td>0              </td><td>0                         </td><td>0                       </td><td>0                 </td><td>0                </td></tr>\n",
       "<tr><td>0      </td><td>0.0          </td><td>5000.0       </td><td>36.0         </td><td>10.65        </td><td>6.0          </td><td>10.0         </td><td>24000.0      </td><td>0.0           </td><td>3.0          </td><td>9.0          </td><td>0.0             </td><td>0.0               </td><td>0.0             </td><td>0.0              </td><td>0.0           </td><td>1.0           </td><td>0.0            </td><td>0.0                </td><td>0.0                                  </td><td>1.0                           </td><td>1.0                  </td><td>0.0                         </td><td>0.0                  </td><td>0.0                       </td><td>0.0             </td><td>0.0                     </td><td>0.0              </td><td>0.0             </td><td>0.0            </td><td>0.0                       </td><td>0.0                     </td><td>0.0               </td><td>0.0              </td></tr>\n",
       "<tr><td>1      </td><td>1.0          </td><td>2500.0       </td><td>60.0         </td><td>15.27        </td><td>13.0         </td><td>1.0          </td><td>30000.0      </td><td>0.0           </td><td>3.0          </td><td>4.0          </td><td>0.0             </td><td>0.0               </td><td>0.0             </td><td>0.0              </td><td>0.0           </td><td>1.0           </td><td>0.0            </td><td>0.0                </td><td>1.0                                  </td><td>0.0                           </td><td>0.0                  </td><td>0.0                         </td><td>0.0                  </td><td>0.0                       </td><td>0.0             </td><td>0.0                     </td><td>0.0              </td><td>0.0             </td><td>0.0            </td><td>0.0                       </td><td>0.0                     </td><td>0.0               </td><td>0.0              </td></tr>\n",
       "<tr><td>2      </td><td>2.0          </td><td>2400.0       </td><td>36.0         </td><td>15.96        </td><td>14.0         </td><td>10.0         </td><td>12252.0      </td><td>0.0           </td><td>2.0          </td><td>10.0         </td><td>0.0             </td><td>0.0               </td><td>0.0             </td><td>0.0              </td><td>0.0           </td><td>1.0           </td><td>0.0            </td><td>0.0                </td><td>0.0                                  </td><td>0.0                           </td><td>0.0                  </td><td>0.0                         </td><td>0.0                  </td><td>0.0                       </td><td>0.0             </td><td>0.0                     </td><td>0.0              </td><td>0.0             </td><td>0.0            </td><td>0.0                       </td><td>1.0                     </td><td>0.0               </td><td>0.0              </td></tr>\n",
       "<tr><td>3      </td><td>3.0          </td><td>10000.0      </td><td>36.0         </td><td>13.49        </td><td>10.0         </td><td>10.0         </td><td>49200.0      </td><td>0.0           </td><td>10.0         </td><td>37.0         </td><td>0.0             </td><td>0.0               </td><td>0.0             </td><td>0.0              </td><td>0.0           </td><td>1.0           </td><td>0.0            </td><td>0.0                </td><td>1.0                                  </td><td>0.0                           </td><td>0.0                  </td><td>0.0                         </td><td>0.0                  </td><td>0.0                       </td><td>0.0             </td><td>0.0                     </td><td>0.0              </td><td>0.0             </td><td>1.0            </td><td>0.0                       </td><td>0.0                     </td><td>0.0               </td><td>0.0              </td></tr>\n",
       "<tr><td>4      </td><td>4.0          </td><td>3000.0       </td><td>60.0         </td><td>12.69        </td><td>9.0          </td><td>1.0          </td><td>80000.0      </td><td>0.0           </td><td>15.0         </td><td>38.0         </td><td>0.0             </td><td>0.0               </td><td>0.0             </td><td>0.0              </td><td>0.0           </td><td>1.0           </td><td>0.0            </td><td>0.0                </td><td>1.0                                  </td><td>0.0                           </td><td>0.0                  </td><td>0.0                         </td><td>0.0                  </td><td>0.0                       </td><td>0.0             </td><td>0.0                     </td><td>0.0              </td><td>0.0             </td><td>1.0            </td><td>0.0                       </td><td>0.0                     </td><td>0.0               </td><td>0.0              </td></tr>\n",
       "<tr><td>5      </td><td>5.0          </td><td>5000.0       </td><td>36.0         </td><td>7.9          </td><td>3.0          </td><td>3.0          </td><td>36000.0      </td><td>0.0           </td><td>9.0          </td><td>12.0         </td><td>0.0             </td><td>0.0               </td><td>0.0             </td><td>0.0              </td><td>0.0           </td><td>1.0           </td><td>0.0            </td><td>0.0                </td><td>1.0                                  </td><td>0.0                           </td><td>0.0                  </td><td>0.0                         </td><td>0.0                  </td><td>0.0                       </td><td>0.0             </td><td>0.0                     </td><td>0.0              </td><td>0.0             </td><td>0.0            </td><td>0.0                       </td><td>0.0                     </td><td>0.0               </td><td>1.0              </td></tr>\n",
       "<tr><td>6      </td><td>6.0          </td><td>7000.0       </td><td>60.0         </td><td>15.96        </td><td>14.0         </td><td>8.0          </td><td>47004.0      </td><td>0.0           </td><td>7.0          </td><td>11.0         </td><td>0.0             </td><td>0.0               </td><td>0.0             </td><td>0.0              </td><td>0.0           </td><td>1.0           </td><td>0.0            </td><td>0.0                </td><td>0.0                                  </td><td>0.0                           </td><td>0.0                  </td><td>1.0                         </td><td>0.0                  </td><td>0.0                       </td><td>0.0             </td><td>0.0                     </td><td>0.0              </td><td>0.0             </td><td>0.0            </td><td>0.0                       </td><td>0.0                     </td><td>0.0               </td><td>0.0              </td></tr>\n",
       "<tr><td>7      </td><td>7.0          </td><td>3000.0       </td><td>36.0         </td><td>18.64        </td><td>20.0         </td><td>9.0          </td><td>48000.0      </td><td>0.0           </td><td>4.0          </td><td>4.0          </td><td>0.0             </td><td>0.0               </td><td>0.0             </td><td>0.0              </td><td>0.0           </td><td>1.0           </td><td>0.0            </td><td>0.0                </td><td>1.0                                  </td><td>0.0                           </td><td>0.0                  </td><td>0.0                         </td><td>0.0                  </td><td>0.0                       </td><td>0.0             </td><td>0.0                     </td><td>0.0              </td><td>0.0             </td><td>0.0            </td><td>0.0                       </td><td>0.0                     </td><td>0.0               </td><td>0.0              </td></tr>\n",
       "<tr><td>8      </td><td>8.0          </td><td>5600.0       </td><td>60.0         </td><td>21.28        </td><td>26.0         </td><td>4.0          </td><td>40000.0      </td><td>0.0           </td><td>11.0         </td><td>13.0         </td><td>0.0             </td><td>0.0               </td><td>0.0             </td><td>0.0              </td><td>1.0           </td><td>0.0           </td><td>0.0            </td><td>0.0                </td><td>1.0                                  </td><td>0.0                           </td><td>0.0                  </td><td>0.0                         </td><td>0.0                  </td><td>0.0                       </td><td>0.0             </td><td>0.0                     </td><td>0.0              </td><td>0.0             </td><td>0.0            </td><td>0.0                       </td><td>1.0                     </td><td>0.0               </td><td>0.0              </td></tr>\n",
       "<tr><td>9      </td><td>9.0          </td><td>5375.0       </td><td>60.0         </td><td>12.69        </td><td>9.0          </td><td>1.0          </td><td>15000.0      </td><td>0.0           </td><td>2.0          </td><td>3.0          </td><td>0.0             </td><td>0.0               </td><td>0.0             </td><td>0.0              </td><td>0.0           </td><td>1.0           </td><td>0.0            </td><td>0.0                </td><td>0.0                                  </td><td>1.0                           </td><td>0.0                  </td><td>0.0                         </td><td>0.0                  </td><td>0.0                       </td><td>0.0             </td><td>0.0                     </td><td>0.0              </td><td>0.0             </td><td>1.0            </td><td>0.0                       </td><td>0.0                     </td><td>0.0               </td><td>0.0              </td></tr>\n",
       "</tbody>\n",
       "</table>"
      ]
     },
     "metadata": {},
     "output_type": "display_data"
    }
   ],
   "source": [
    "df.describe()\n",
    "\n",
    "y=\"int_rate\"\n",
    "# splits = df.split_frame(ratios = [0.8], seed = 1)\n",
    "# train = splits[0]\n",
    "# test = splits[1]\n",
    "\n",
    "# Input parameters that are going to train\n",
    "training_columns = dfpd.columns.values\n",
    "# Output parameter train against input parameters\n",
    "response_column = 'int_rate'\n",
    "# Split data into train and testing\n",
    "train, test = df.split_frame(ratios=[0.7])\n",
    "\n"
   ]
  },
  {
   "cell_type": "code",
   "execution_count": 63,
   "metadata": {},
   "outputs": [],
   "source": [
    "# Define model\n",
    "'''\n",
    "Model Documentation\n",
    "http://h2o-release.s3.amazonaws.com/h2o/master/3420/docs-website/h2o-py/docs/modeling.html#h2orandomforestestimator\n",
    "'''\n",
    "model = H2ORandomForestEstimator(ntrees=30, max_depth=10, nfolds=5)"
   ]
  },
  {
   "cell_type": "code",
   "execution_count": 64,
   "metadata": {},
   "outputs": [
    {
     "data": {
      "text/plain": [
       "array(['loan_amnt', 'term', 'int_rate', 'sub_grade', 'emp_length',\n",
       "       'annual_inc', 'delinq_2yrs', 'open_acc', 'total_acc',\n",
       "       'acc_now_delinq', 'OwnerOf_MORTGAGE', 'OwnerOf_NONE',\n",
       "       'OwnerOf_OTHER', 'OwnerOf_OWN', 'OwnerOf_RENT', 'List_Status_w',\n",
       "       'Application_JOINT', 'verification_status_Source Verified',\n",
       "       'verification_status_Verified', 'purpose_credit_card',\n",
       "       'purpose_debt_consolidation', 'purpose_educational',\n",
       "       'purpose_home_improvement', 'purpose_house',\n",
       "       'purpose_major_purchase', 'purpose_medical', 'purpose_moving',\n",
       "       'purpose_other', 'purpose_renewable_energy',\n",
       "       'purpose_small_business', 'purpose_vacation', 'purpose_wedding'],\n",
       "      dtype=object)"
      ]
     },
     "execution_count": 64,
     "metadata": {},
     "output_type": "execute_result"
    }
   ],
   "source": [
    "training_columns"
   ]
  },
  {
   "cell_type": "code",
   "execution_count": 65,
   "metadata": {},
   "outputs": [
    {
     "name": "stdout",
     "output_type": "stream",
     "text": [
      "drf Model Build progress: |███████████████████████████████████████████████| 100%\n"
     ]
    }
   ],
   "source": [
    "# Train model\n",
    "model.train(x=training_columns.tolist(), y=response_column, training_frame=train)"
   ]
  },
  {
   "cell_type": "code",
   "execution_count": 66,
   "metadata": {},
   "outputs": [
    {
     "name": "stdout",
     "output_type": "stream",
     "text": [
      "\n",
      "ModelMetricsRegression: drf\n",
      "** Reported on test data. **\n",
      "\n",
      "MSE: 0.733418637165\n",
      "RMSE: 0.856398643837\n",
      "MAE: 0.659421160207\n",
      "RMSLE: 0.0604471490203\n",
      "Mean Residual Deviance: 0.733418637165\n",
      "\n",
      "Model Details\n",
      "=============\n",
      "H2ORandomForestEstimator :  Distributed Random Forest\n",
      "Model Key:  DRF_model_python_1553300320091_2\n",
      "\n",
      "\n",
      "ModelMetricsRegression: drf\n",
      "** Reported on train data. **\n",
      "\n",
      "MSE: 0.769091713189\n",
      "RMSE: 0.876978741583\n",
      "MAE: 0.673901214941\n",
      "RMSLE: 0.0619662550157\n",
      "Mean Residual Deviance: 0.769091713189\n",
      "\n",
      "ModelMetricsRegression: drf\n",
      "** Reported on cross-validation data. **\n",
      "\n",
      "MSE: 0.72711139889\n",
      "RMSE: 0.852708273028\n",
      "MAE: 0.656912658195\n",
      "RMSLE: 0.0600039620456\n",
      "Mean Residual Deviance: 0.72711139889\n",
      "Cross-Validation Metrics Summary: \n"
     ]
    },
    {
     "data": {
      "text/html": [
       "<div style=\"overflow:auto\"><table style=\"width:50%\"><tr><td><b></b></td>\n",
       "<td><b>mean</b></td>\n",
       "<td><b>sd</b></td>\n",
       "<td><b>cv_1_valid</b></td>\n",
       "<td><b>cv_2_valid</b></td>\n",
       "<td><b>cv_3_valid</b></td>\n",
       "<td><b>cv_4_valid</b></td>\n",
       "<td><b>cv_5_valid</b></td></tr>\n",
       "<tr><td>mae</td>\n",
       "<td>0.6569136</td>\n",
       "<td>0.0010257</td>\n",
       "<td>0.6551714</td>\n",
       "<td>0.6557965</td>\n",
       "<td>0.6593493</td>\n",
       "<td>0.6574537</td>\n",
       "<td>0.656797</td></tr>\n",
       "<tr><td>mean_residual_deviance</td>\n",
       "<td>0.7271138</td>\n",
       "<td>0.0037679</td>\n",
       "<td>0.722401</td>\n",
       "<td>0.7197851</td>\n",
       "<td>0.7344038</td>\n",
       "<td>0.7303879</td>\n",
       "<td>0.7285912</td></tr>\n",
       "<tr><td>mse</td>\n",
       "<td>0.7271138</td>\n",
       "<td>0.0037679</td>\n",
       "<td>0.722401</td>\n",
       "<td>0.7197851</td>\n",
       "<td>0.7344038</td>\n",
       "<td>0.7303879</td>\n",
       "<td>0.7285912</td></tr>\n",
       "<tr><td>r2</td>\n",
       "<td>0.9621394</td>\n",
       "<td>0.0002149</td>\n",
       "<td>0.9623669</td>\n",
       "<td>0.9625567</td>\n",
       "<td>0.9616706</td>\n",
       "<td>0.9620681</td>\n",
       "<td>0.9620345</td></tr>\n",
       "<tr><td>residual_deviance</td>\n",
       "<td>0.7271138</td>\n",
       "<td>0.0037679</td>\n",
       "<td>0.722401</td>\n",
       "<td>0.7197851</td>\n",
       "<td>0.7344038</td>\n",
       "<td>0.7303879</td>\n",
       "<td>0.7285912</td></tr>\n",
       "<tr><td>rmse</td>\n",
       "<td>0.852704</td>\n",
       "<td>0.0022098</td>\n",
       "<td>0.8499418</td>\n",
       "<td>0.8484015</td>\n",
       "<td>0.8569737</td>\n",
       "<td>0.8546274</td>\n",
       "<td>0.8535755</td></tr>\n",
       "<tr><td>rmsle</td>\n",
       "<td>0.0600036</td>\n",
       "<td>0.0001561</td>\n",
       "<td>0.0598378</td>\n",
       "<td>0.0598417</td>\n",
       "<td>0.0604328</td>\n",
       "<td>0.0599727</td>\n",
       "<td>0.0599329</td></tr></table></div>"
      ],
      "text/plain": [
       "                        mean       sd           cv_1_valid    cv_2_valid    cv_3_valid    cv_4_valid    cv_5_valid\n",
       "----------------------  ---------  -----------  ------------  ------------  ------------  ------------  ------------\n",
       "mae                     0.656914   0.00102573   0.655171      0.655797      0.659349      0.657454      0.656797\n",
       "mean_residual_deviance  0.727114   0.00376785   0.722401      0.719785      0.734404      0.730388      0.728591\n",
       "mse                     0.727114   0.00376785   0.722401      0.719785      0.734404      0.730388      0.728591\n",
       "r2                      0.962139   0.000214881  0.962367      0.962557      0.961671      0.962068      0.962034\n",
       "residual_deviance       0.727114   0.00376785   0.722401      0.719785      0.734404      0.730388      0.728591\n",
       "rmse                    0.852704   0.00220975   0.849942      0.848402      0.856974      0.854627      0.853576\n",
       "rmsle                   0.0600036  0.000156144  0.0598378     0.0598417     0.0604328     0.0599727     0.0599329"
      ]
     },
     "metadata": {},
     "output_type": "display_data"
    },
    {
     "name": "stdout",
     "output_type": "stream",
     "text": [
      "Scoring History: \n"
     ]
    },
    {
     "data": {
      "text/html": [
       "<div style=\"overflow:auto\"><table style=\"width:50%\"><tr><td><b></b></td>\n",
       "<td><b>timestamp</b></td>\n",
       "<td><b>duration</b></td>\n",
       "<td><b>number_of_trees</b></td>\n",
       "<td><b>training_rmse</b></td>\n",
       "<td><b>training_mae</b></td>\n",
       "<td><b>training_deviance</b></td></tr>\n",
       "<tr><td></td>\n",
       "<td>2019-03-22 22:16:42</td>\n",
       "<td> 4 min 47.000 sec</td>\n",
       "<td>0.0</td>\n",
       "<td>nan</td>\n",
       "<td>nan</td>\n",
       "<td>nan</td></tr>\n",
       "<tr><td></td>\n",
       "<td>2019-03-22 22:16:43</td>\n",
       "<td> 4 min 48.171 sec</td>\n",
       "<td>1.0</td>\n",
       "<td>1.0837052</td>\n",
       "<td>0.8097875</td>\n",
       "<td>1.1744171</td></tr>\n",
       "<tr><td></td>\n",
       "<td>2019-03-22 22:16:44</td>\n",
       "<td> 4 min 49.402 sec</td>\n",
       "<td>2.0</td>\n",
       "<td>1.0618374</td>\n",
       "<td>0.7974915</td>\n",
       "<td>1.1274986</td></tr>\n",
       "<tr><td></td>\n",
       "<td>2019-03-22 22:16:45</td>\n",
       "<td> 4 min 50.540 sec</td>\n",
       "<td>3.0</td>\n",
       "<td>0.9909360</td>\n",
       "<td>0.7457516</td>\n",
       "<td>0.9819542</td></tr>\n",
       "<tr><td></td>\n",
       "<td>2019-03-22 22:16:50</td>\n",
       "<td> 4 min 54.961 sec</td>\n",
       "<td>7.0</td>\n",
       "<td>1.0065466</td>\n",
       "<td>0.7540290</td>\n",
       "<td>1.0131360</td></tr>\n",
       "<tr><td></td>\n",
       "<td>2019-03-22 22:16:54</td>\n",
       "<td> 4 min 59.431 sec</td>\n",
       "<td>11.0</td>\n",
       "<td>0.9270174</td>\n",
       "<td>0.7052463</td>\n",
       "<td>0.8593613</td></tr>\n",
       "<tr><td></td>\n",
       "<td>2019-03-22 22:16:59</td>\n",
       "<td> 5 min  4.661 sec</td>\n",
       "<td>15.0</td>\n",
       "<td>0.8976052</td>\n",
       "<td>0.6865278</td>\n",
       "<td>0.8056950</td></tr>\n",
       "<tr><td></td>\n",
       "<td>2019-03-22 22:17:05</td>\n",
       "<td> 5 min  9.879 sec</td>\n",
       "<td>19.0</td>\n",
       "<td>0.8894290</td>\n",
       "<td>0.6820478</td>\n",
       "<td>0.7910839</td></tr>\n",
       "<tr><td></td>\n",
       "<td>2019-03-22 22:17:10</td>\n",
       "<td> 5 min 14.983 sec</td>\n",
       "<td>23.0</td>\n",
       "<td>0.8727389</td>\n",
       "<td>0.6703188</td>\n",
       "<td>0.7616731</td></tr>\n",
       "<tr><td></td>\n",
       "<td>2019-03-22 22:17:14</td>\n",
       "<td> 5 min 19.580 sec</td>\n",
       "<td>27.0</td>\n",
       "<td>0.8745718</td>\n",
       "<td>0.6714481</td>\n",
       "<td>0.7648758</td></tr>\n",
       "<tr><td></td>\n",
       "<td>2019-03-22 22:17:18</td>\n",
       "<td> 5 min 23.412 sec</td>\n",
       "<td>30.0</td>\n",
       "<td>0.8769787</td>\n",
       "<td>0.6739012</td>\n",
       "<td>0.7690917</td></tr></table></div>"
      ],
      "text/plain": [
       "    timestamp            duration          number_of_trees    training_rmse    training_mae    training_deviance\n",
       "--  -------------------  ----------------  -----------------  ---------------  --------------  -------------------\n",
       "    2019-03-22 22:16:42  4 min 47.000 sec  0                  nan              nan             nan\n",
       "    2019-03-22 22:16:43  4 min 48.171 sec  1                  1.08371          0.809788        1.17442\n",
       "    2019-03-22 22:16:44  4 min 49.402 sec  2                  1.06184          0.797492        1.1275\n",
       "    2019-03-22 22:16:45  4 min 50.540 sec  3                  0.990936         0.745752        0.981954\n",
       "    2019-03-22 22:16:50  4 min 54.961 sec  7                  1.00655          0.754029        1.01314\n",
       "    2019-03-22 22:16:54  4 min 59.431 sec  11                 0.927017         0.705246        0.859361\n",
       "    2019-03-22 22:16:59  5 min  4.661 sec  15                 0.897605         0.686528        0.805695\n",
       "    2019-03-22 22:17:05  5 min  9.879 sec  19                 0.889429         0.682048        0.791084\n",
       "    2019-03-22 22:17:10  5 min 14.983 sec  23                 0.872739         0.670319        0.761673\n",
       "    2019-03-22 22:17:14  5 min 19.580 sec  27                 0.874572         0.671448        0.764876\n",
       "    2019-03-22 22:17:18  5 min 23.412 sec  30                 0.876979         0.673901        0.769092"
      ]
     },
     "metadata": {},
     "output_type": "display_data"
    },
    {
     "name": "stdout",
     "output_type": "stream",
     "text": [
      "Variable Importances: \n"
     ]
    },
    {
     "data": {
      "text/html": [
       "<div style=\"overflow:auto\"><table style=\"width:50%\"><tr><td><b>variable</b></td>\n",
       "<td><b>relative_importance</b></td>\n",
       "<td><b>scaled_importance</b></td>\n",
       "<td><b>percentage</b></td></tr>\n",
       "<tr><td>sub_grade</td>\n",
       "<td>223272240.0000000</td>\n",
       "<td>1.0</td>\n",
       "<td>0.8752627</td></tr>\n",
       "<tr><td>term</td>\n",
       "<td>19660608.0000000</td>\n",
       "<td>0.0880567</td>\n",
       "<td>0.0770727</td></tr>\n",
       "<tr><td>verification_status_Verified</td>\n",
       "<td>4511729.5</td>\n",
       "<td>0.0202073</td>\n",
       "<td>0.0176867</td></tr>\n",
       "<tr><td>purpose_credit_card</td>\n",
       "<td>2453590.7500000</td>\n",
       "<td>0.0109892</td>\n",
       "<td>0.0096185</td></tr>\n",
       "<tr><td>List_Status_w</td>\n",
       "<td>1813957.7500000</td>\n",
       "<td>0.0081244</td>\n",
       "<td>0.0071110</td></tr>\n",
       "<tr><td>---</td>\n",
       "<td>---</td>\n",
       "<td>---</td>\n",
       "<td>---</td></tr>\n",
       "<tr><td>purpose_vacation</td>\n",
       "<td>1250.1636963</td>\n",
       "<td>0.0000056</td>\n",
       "<td>0.0000049</td></tr>\n",
       "<tr><td>acc_now_delinq</td>\n",
       "<td>702.2008057</td>\n",
       "<td>0.0000031</td>\n",
       "<td>0.0000028</td></tr>\n",
       "<tr><td>Application_JOINT</td>\n",
       "<td>235.4812317</td>\n",
       "<td>0.0000011</td>\n",
       "<td>0.0000009</td></tr>\n",
       "<tr><td>OwnerOf_NONE</td>\n",
       "<td>170.2328491</td>\n",
       "<td>0.0000008</td>\n",
       "<td>0.0000007</td></tr>\n",
       "<tr><td>purpose_renewable_energy</td>\n",
       "<td>139.2436371</td>\n",
       "<td>0.0000006</td>\n",
       "<td>0.0000005</td></tr></table></div>"
      ],
      "text/plain": [
       "variable                      relative_importance    scaled_importance    percentage\n",
       "----------------------------  ---------------------  -------------------  -----------------\n",
       "sub_grade                     223272240.0            1.0                  0.875262748377\n",
       "term                          19660608.0             0.0880566612311      0.0770727153221\n",
       "verification_status_Verified  4511729.5              0.0202073016332      0.0176866983648\n",
       "purpose_credit_card           2453590.75             0.0109892333682      0.00961846660041\n",
       "List_Status_w                 1813957.75             0.00812442133424     0.00711100334598\n",
       "---                           ---                    ---                  ---\n",
       "purpose_vacation              1250.16369629          5.5992795893e-06     4.90084084226e-06\n",
       "acc_now_delinq                702.200805664          3.14504304549e-06    2.75273901976e-06\n",
       "Application_JOINT             235.481231689          1.05468208537e-06    9.23123940709e-07\n",
       "OwnerOf_NONE                  170.232849121          7.62445206449e-07    6.67339886884e-07\n",
       "purpose_renewable_energy      139.243637085          6.23649572759e-07    5.45857239077e-07"
      ]
     },
     "metadata": {},
     "output_type": "display_data"
    },
    {
     "name": "stdout",
     "output_type": "stream",
     "text": [
      "\n",
      "See the whole table with table.as_data_frame()\n"
     ]
    },
    {
     "data": {
      "text/plain": [
       "<bound method H2ORandomForestEstimator.mae of >"
      ]
     },
     "execution_count": 66,
     "metadata": {},
     "output_type": "execute_result"
    }
   ],
   "source": [
    "# Model performance\n",
    "performance = model.model_performance(test_data=test)\n",
    "\n",
    "print(performance)\n",
    "model.mae"
   ]
  },
  {
   "cell_type": "code",
   "execution_count": null,
   "metadata": {},
   "outputs": [],
   "source": []
  }
 ],
 "metadata": {
  "kernelspec": {
   "display_name": "Python 2",
   "language": "python",
   "name": "python2"
  },
  "language_info": {
   "codemirror_mode": {
    "name": "ipython",
    "version": 2
   },
   "file_extension": ".py",
   "mimetype": "text/x-python",
   "name": "python",
   "nbconvert_exporter": "python",
   "pygments_lexer": "ipython2",
   "version": "2.7.10"
  }
 },
 "nbformat": 4,
 "nbformat_minor": 2
}
