{
 "cells": [
  {
   "cell_type": "code",
   "execution_count": 54,
   "metadata": {},
   "outputs": [],
   "source": [
    "# Importing all the necessary libraries\n",
    "import numpy as np \n",
    "import re\n",
    "import pandas as pd\n",
    "\n",
    "import matplotlib.pyplot as plt\n",
    "import seaborn as sns\n",
    "%matplotlib inline\n",
    "\n",
    "from sklearn.ensemble import RandomForestRegressor\n",
    "from sklearn import metrics\n",
    "from sklearn.model_selection import KFold\n",
    "from sklearn.preprocessing import StandardScaler\n",
    "from sklearn import linear_model, preprocessing\n",
    "from sklearn.model_selection import cross_val_score, train_test_split"
   ]
  },
  {
   "cell_type": "code",
   "execution_count": 55,
   "metadata": {},
   "outputs": [],
   "source": [
    "dataset = pd.read_csv('../Data/LendingData.csv')"
   ]
  },
  {
   "cell_type": "code",
   "execution_count": 56,
   "metadata": {},
   "outputs": [
    {
     "name": "stdout",
     "output_type": "stream",
     "text": [
      "<class 'pandas.core.frame.DataFrame'>\n",
      "RangeIndex: 887350 entries, 0 to 887349\n",
      "Data columns (total 39 columns):\n",
      "Unnamed: 0                             887350 non-null int64\n",
      "loan_amnt                              887350 non-null float64\n",
      "term                                   887350 non-null int64\n",
      "int_rate                               887350 non-null float64\n",
      "installment                            887350 non-null float64\n",
      "sub_grade                              887350 non-null int64\n",
      "emp_length                             887350 non-null int64\n",
      "annual_inc                             887350 non-null int64\n",
      "issue_d                                887350 non-null object\n",
      "dti                                    887350 non-null float64\n",
      "delinq_2yrs                            887350 non-null float64\n",
      "open_acc                               887350 non-null float64\n",
      "total_acc                              887350 non-null float64\n",
      "out_prncp                              887350 non-null float64\n",
      "total_pymnt                            887350 non-null float64\n",
      "total_pymnt_inv                        887350 non-null float64\n",
      "acc_now_delinq                         887350 non-null float64\n",
      "OwnerOf_MORTGAGE                       887350 non-null int64\n",
      "OwnerOf_NONE                           887350 non-null int64\n",
      "OwnerOf_OTHER                          887350 non-null int64\n",
      "OwnerOf_OWN                            887350 non-null int64\n",
      "OwnerOf_RENT                           887350 non-null int64\n",
      "List_Status_w                          887350 non-null int64\n",
      "Application_JOINT                      887350 non-null int64\n",
      "verification_status_Source Verified    887350 non-null int64\n",
      "verification_status_Verified           887350 non-null int64\n",
      "purpose_credit_card                    887350 non-null int64\n",
      "purpose_debt_consolidation             887350 non-null int64\n",
      "purpose_educational                    887350 non-null int64\n",
      "purpose_home_improvement               887350 non-null int64\n",
      "purpose_house                          887350 non-null int64\n",
      "purpose_major_purchase                 887350 non-null int64\n",
      "purpose_medical                        887350 non-null int64\n",
      "purpose_moving                         887350 non-null int64\n",
      "purpose_other                          887350 non-null int64\n",
      "purpose_renewable_energy               887350 non-null int64\n",
      "purpose_small_business                 887350 non-null int64\n",
      "purpose_vacation                       887350 non-null int64\n",
      "purpose_wedding                        887350 non-null int64\n",
      "dtypes: float64(11), int64(27), object(1)\n",
      "memory usage: 264.0+ MB\n"
     ]
    }
   ],
   "source": [
    "dataset.info()"
   ]
  },
  {
   "cell_type": "code",
   "execution_count": 57,
   "metadata": {},
   "outputs": [],
   "source": [
    "Y = dataset.pop('int_rate').values"
   ]
  },
  {
   "cell_type": "code",
   "execution_count": 59,
   "metadata": {},
   "outputs": [
    {
     "name": "stdout",
     "output_type": "stream",
     "text": [
      "[10.65 15.27 15.96 ... 15.99 19.99 11.99]\n"
     ]
    }
   ],
   "source": [
    "dataset.pop('Unnamed: 0')\n",
    "dataset.pop('issue_d')\n",
    "print(Y)"
   ]
  },
  {
   "cell_type": "code",
   "execution_count": 61,
   "metadata": {},
   "outputs": [],
   "source": [
    "X = dataset.values"
   ]
  },
  {
   "cell_type": "code",
   "execution_count": 60,
   "metadata": {},
   "outputs": [
    {
     "name": "stdout",
     "output_type": "stream",
     "text": [
      "<class 'pandas.core.frame.DataFrame'>\n",
      "RangeIndex: 887350 entries, 0 to 887349\n",
      "Data columns (total 36 columns):\n",
      "loan_amnt                              887350 non-null float64\n",
      "term                                   887350 non-null int64\n",
      "installment                            887350 non-null float64\n",
      "sub_grade                              887350 non-null int64\n",
      "emp_length                             887350 non-null int64\n",
      "annual_inc                             887350 non-null int64\n",
      "dti                                    887350 non-null float64\n",
      "delinq_2yrs                            887350 non-null float64\n",
      "open_acc                               887350 non-null float64\n",
      "total_acc                              887350 non-null float64\n",
      "out_prncp                              887350 non-null float64\n",
      "total_pymnt                            887350 non-null float64\n",
      "total_pymnt_inv                        887350 non-null float64\n",
      "acc_now_delinq                         887350 non-null float64\n",
      "OwnerOf_MORTGAGE                       887350 non-null int64\n",
      "OwnerOf_NONE                           887350 non-null int64\n",
      "OwnerOf_OTHER                          887350 non-null int64\n",
      "OwnerOf_OWN                            887350 non-null int64\n",
      "OwnerOf_RENT                           887350 non-null int64\n",
      "List_Status_w                          887350 non-null int64\n",
      "Application_JOINT                      887350 non-null int64\n",
      "verification_status_Source Verified    887350 non-null int64\n",
      "verification_status_Verified           887350 non-null int64\n",
      "purpose_credit_card                    887350 non-null int64\n",
      "purpose_debt_consolidation             887350 non-null int64\n",
      "purpose_educational                    887350 non-null int64\n",
      "purpose_home_improvement               887350 non-null int64\n",
      "purpose_house                          887350 non-null int64\n",
      "purpose_major_purchase                 887350 non-null int64\n",
      "purpose_medical                        887350 non-null int64\n",
      "purpose_moving                         887350 non-null int64\n",
      "purpose_other                          887350 non-null int64\n",
      "purpose_renewable_energy               887350 non-null int64\n",
      "purpose_small_business                 887350 non-null int64\n",
      "purpose_vacation                       887350 non-null int64\n",
      "purpose_wedding                        887350 non-null int64\n",
      "dtypes: float64(10), int64(26)\n",
      "memory usage: 243.7 MB\n"
     ]
    }
   ],
   "source": [
    "dataset.info()"
   ]
  },
  {
   "cell_type": "markdown",
   "metadata": {},
   "source": [
    "## Creating a function for Random Forest and calculating the MAPE for test data and train data"
   ]
  },
  {
   "cell_type": "code",
   "execution_count": 62,
   "metadata": {},
   "outputs": [],
   "source": [
    "def ran_for(model, X_train, X_test, Y_train, Y_test):\n",
    "    sc = StandardScaler()  \n",
    "    X_train = sc.fit_transform(X_train)  \n",
    "    X_test = sc.transform(X_test) \n",
    "    model.fit(X_train, Y_train)\n",
    "    y_pred = model.predict(X_test)\n",
    "    y_pred_train = model.predict(X_train)\n",
    "    RMSE = np.sqrt(metrics.mean_squared_error(Y_test, y_pred))\n",
    "    MAPE_test = np.mean(np.abs((Y_test - y_pred) / Y_test)) * 100\n",
    "    MAPE_train = np.mean(np.abs((Y_train - y_pred_train) / Y_train)) * 100\n",
    "    return RMSE, MAPE_test,MAPE_train, y_pred, y_pred_train, model"
   ]
  },
  {
   "cell_type": "code",
   "execution_count": 67,
   "metadata": {},
   "outputs": [
    {
     "data": {
      "text/plain": [
       "array([ 9.99,  8.19, 22.4 , ..., 15.99,  8.39,  5.32])"
      ]
     },
     "execution_count": 67,
     "metadata": {},
     "output_type": "execute_result"
    }
   ],
   "source": [
    "Y_train"
   ]
  },
  {
   "cell_type": "code",
   "execution_count": 68,
   "metadata": {},
   "outputs": [
    {
     "name": "stderr",
     "output_type": "stream",
     "text": [
      "C:\\Users\\Nidhi\\Anaconda3\\lib\\site-packages\\sklearn\\ensemble\\forest.py:246: FutureWarning: The default value of n_estimators will change from 10 in version 0.20 to 100 in 0.22.\n",
      "  \"10 in version 0.20 to 100 in 0.22.\", FutureWarning)\n"
     ]
    },
    {
     "name": "stdout",
     "output_type": "stream",
     "text": [
      "MAPE for Test:  1.1791662166934926 MAPE for Train:  0.45965544731689695\n"
     ]
    }
   ],
   "source": [
    "X_train, X_test, Y_train, Y_test = train_test_split(X, Y, test_size = 0.3)\n",
    "regressor = RandomForestRegressor()\n",
    "rmse, mape_test, mape_train, y_pred, y_train_pred, model = ran_for(regressor,X_train, X_test, Y_train, Y_test)\n",
    "print(\"MAPE for Test: \", mape_test, \"MAPE for Train: \", mape_train)"
   ]
  },
  {
   "cell_type": "markdown",
   "metadata": {},
   "source": [
    "## 5-FOLD cross-validation "
   ]
  },
  {
   "cell_type": "code",
   "execution_count": 30,
   "metadata": {},
   "outputs": [
    {
     "name": "stdout",
     "output_type": "stream",
     "text": [
      "KFold(n_splits=5, random_state=None, shuffle=False)\n",
      "TRAIN: [177470 177471 177472 ... 887347 887348 887349] TEST: [     0      1      2 ... 177467 177468 177469]\n"
     ]
    },
    {
     "name": "stderr",
     "output_type": "stream",
     "text": [
      "C:\\Users\\Nidhi\\Anaconda3\\lib\\site-packages\\sklearn\\ensemble\\forest.py:246: FutureWarning: The default value of n_estimators will change from 10 in version 0.20 to 100 in 0.22.\n",
      "  \"10 in version 0.20 to 100 in 0.22.\", FutureWarning)\n"
     ]
    },
    {
     "name": "stdout",
     "output_type": "stream",
     "text": [
      "TRAIN: [     0      1      2 ... 887347 887348 887349] TEST: [177470 177471 177472 ... 354937 354938 354939]\n",
      "TRAIN: [     0      1      2 ... 887347 887348 887349] TEST: [354940 354941 354942 ... 532407 532408 532409]\n",
      "TRAIN: [     0      1      2 ... 887347 887348 887349] TEST: [532410 532411 532412 ... 709877 709878 709879]\n",
      "TRAIN: [     0      1      2 ... 709877 709878 709879] TEST: [709880 709881 709882 ... 887347 887348 887349]\n",
      "------------------------------------------------------------------\n",
      "MAPE on test data is : [5.316714767574618, 2.039607194651975, 1.7644504427439658, 0.4696664976552604, 1.5853284700911154]\n",
      "MAPE on train data is : [0.324262972556503, 0.4160060783813066, 0.4320440758668222, 0.4814014210311733, 0.4319460218406156]\n",
      "avg_MAPE_Test 2.235153474543387\n",
      "avg_MAPE_Train 0.4171321139352841\n"
     ]
    }
   ],
   "source": [
    "kf = KFold(n_splits=5)\n",
    "kf.get_n_splits(X)\n",
    "\n",
    "print(kf) \n",
    "\n",
    "MAPE_TEST = []\n",
    "MAPE_TRAIN = []\n",
    "Y_test_array=[]\n",
    "y_pred_array=[]\n",
    "Y_train_ret_array = []\n",
    "y_train_pred_array=[]\n",
    "regressor = RandomForestRegressor() # No regularization\n",
    "\n",
    "for train_index, test_index in kf.split(X):\n",
    "    print(\"TRAIN:\", train_index, \"TEST:\", test_index)\n",
    "    X_train, X_test = X[train_index], X[test_index]\n",
    "    Y_train, Y_test = Y[train_index], Y[test_index]\n",
    "    rmse, mape_test, mape_train, y_pred, y_train_pred, model = ran_for(regressor,X_train, X_test, Y_train, Y_test)\n",
    "    MAPE_TEST.append(mape_test)\n",
    "    MAPE_TRAIN.append(mape_train)\n",
    "    Y_test_array.append(Y_test)\n",
    "    y_pred_array.append(y_pred)\n",
    "    Y_train_ret_array.append(Y_train)\n",
    "    y_train_pred_array.append(y_train_pred)\n",
    "print('------------------------------------------------------------------')    \n",
    "print(\"MAPE on test data is :\", MAPE_TEST)\n",
    "print(\"MAPE on train data is :\", MAPE_TRAIN)\n",
    "\n",
    "avg_MAPE_Test = sum(MAPE_TEST)/len(MAPE_TEST)\n",
    "print('avg_MAPE_Test',avg_MAPE_Test)\n",
    "avg_MAPE_Train = sum(MAPE_TRAIN)/len(MAPE_TRAIN)\n",
    "print('avg_MAPE_Train',avg_MAPE_Train)"
   ]
  },
  {
   "cell_type": "markdown",
   "metadata": {},
   "source": [
    "## Hyper-Parameter Tuning"
   ]
  },
  {
   "cell_type": "code",
   "execution_count": 75,
   "metadata": {},
   "outputs": [
    {
     "name": "stdout",
     "output_type": "stream",
     "text": [
      "KFold(n_splits=5, random_state=None, shuffle=False)\n",
      "<bound method BaseSearchCV.score of GridSearchCV(cv=5, error_score='raise-deprecating',\n",
      "       estimator=RandomForestRegressor(bootstrap=True, criterion='mse', max_depth=None,\n",
      "           max_features='auto', max_leaf_nodes=None,\n",
      "           min_impurity_decrease=0.0, min_impurity_split=None,\n",
      "           min_samples_leaf=1, min_samples_split=2,\n",
      "           min_weight_fraction_leaf=0.0, n_estimators='warn', n_jobs=None,\n",
      "           oob_score=False, random_state=None, verbose=0, warm_start=False),\n",
      "       fit_params=None, iid='warn', n_jobs=None,\n",
      "       param_grid={'n_estimators': [10, 11], 'max_depth': [7, 8]},\n",
      "       pre_dispatch='2*n_jobs', refit=True, return_train_score='warn',\n",
      "       scoring=None, verbose=0)>\n"
     ]
    }
   ],
   "source": [
    "# Grid-search approach:\n",
    "from sklearn.model_selection import GridSearchCV\n",
    "kf = KFold(n_splits=5)\n",
    "kf.get_n_splits(X)\n",
    "\n",
    "print(kf) \n",
    "regressor = RandomForestRegressor() \n",
    "param_grid = {\"n_estimators\": [10,11],\n",
    "             \"max_depth\": [7,8]}\n",
    "\n",
    "# run grid search\n",
    "grid_search = GridSearchCV(regressor, param_grid=param_grid, cv=5)\n",
    "grid_search.fit(X, Y)\n",
    "\n",
    "print(grid_search.score)\n"
   ]
  },
  {
   "cell_type": "code",
   "execution_count": 40,
   "metadata": {},
   "outputs": [
    {
     "name": "stdout",
     "output_type": "stream",
     "text": [
      "KFold(n_splits=5, random_state=None, shuffle=False)\n"
     ]
    },
    {
     "name": "stderr",
     "output_type": "stream",
     "text": [
      "C:\\Users\\Nidhi\\Anaconda3\\lib\\site-packages\\sklearn\\ensemble\\forest.py:246: FutureWarning: The default value of n_estimators will change from 10 in version 0.20 to 100 in 0.22.\n",
      "  \"10 in version 0.20 to 100 in 0.22.\", FutureWarning)\n"
     ]
    },
    {
     "name": "stdout",
     "output_type": "stream",
     "text": [
      "depth =  3 [6.679338895992265]\n"
     ]
    },
    {
     "name": "stderr",
     "output_type": "stream",
     "text": [
      "C:\\Users\\Nidhi\\Anaconda3\\lib\\site-packages\\sklearn\\ensemble\\forest.py:246: FutureWarning: The default value of n_estimators will change from 10 in version 0.20 to 100 in 0.22.\n",
      "  \"10 in version 0.20 to 100 in 0.22.\", FutureWarning)\n"
     ]
    },
    {
     "name": "stdout",
     "output_type": "stream",
     "text": [
      "depth =  4 [6.00587581703539]\n"
     ]
    },
    {
     "name": "stderr",
     "output_type": "stream",
     "text": [
      "C:\\Users\\Nidhi\\Anaconda3\\lib\\site-packages\\sklearn\\ensemble\\forest.py:246: FutureWarning: The default value of n_estimators will change from 10 in version 0.20 to 100 in 0.22.\n",
      "  \"10 in version 0.20 to 100 in 0.22.\", FutureWarning)\n"
     ]
    },
    {
     "name": "stdout",
     "output_type": "stream",
     "text": [
      "depth =  5 [5.544189291039043]\n"
     ]
    },
    {
     "name": "stderr",
     "output_type": "stream",
     "text": [
      "C:\\Users\\Nidhi\\Anaconda3\\lib\\site-packages\\sklearn\\ensemble\\forest.py:246: FutureWarning: The default value of n_estimators will change from 10 in version 0.20 to 100 in 0.22.\n",
      "  \"10 in version 0.20 to 100 in 0.22.\", FutureWarning)\n"
     ]
    },
    {
     "name": "stdout",
     "output_type": "stream",
     "text": [
      "depth =  6 [4.822311207972686]\n"
     ]
    },
    {
     "name": "stderr",
     "output_type": "stream",
     "text": [
      "C:\\Users\\Nidhi\\Anaconda3\\lib\\site-packages\\sklearn\\ensemble\\forest.py:246: FutureWarning: The default value of n_estimators will change from 10 in version 0.20 to 100 in 0.22.\n",
      "  \"10 in version 0.20 to 100 in 0.22.\", FutureWarning)\n"
     ]
    },
    {
     "name": "stdout",
     "output_type": "stream",
     "text": [
      "depth =  7 [3.8417420342311956]\n"
     ]
    },
    {
     "name": "stderr",
     "output_type": "stream",
     "text": [
      "C:\\Users\\Nidhi\\Anaconda3\\lib\\site-packages\\sklearn\\ensemble\\forest.py:246: FutureWarning: The default value of n_estimators will change from 10 in version 0.20 to 100 in 0.22.\n",
      "  \"10 in version 0.20 to 100 in 0.22.\", FutureWarning)\n"
     ]
    },
    {
     "name": "stdout",
     "output_type": "stream",
     "text": [
      "depth =  8 [3.3910266781474787]\n"
     ]
    }
   ],
   "source": [
    "kf = KFold(n_splits=5)\n",
    "kf.get_n_splits(X)\n",
    "importances = model.feature_importances_\n",
    "X_feat = dataset.values\n",
    "\n",
    "print(kf) \n",
    "\n",
    "\n",
    "\n",
    "max_depth_list = [3,4,5,6,7,8]\n",
    "\n",
    "for depth in max_depth_list:\n",
    "    MAPE_TEST = []  \n",
    "    MAPE_TRAIN =[]\n",
    "    regressor = RandomForestRegressor(max_depth= depth) \n",
    "\n",
    "    for train_index, test_index in kf.split(X_feat):\n",
    "        #print(\"TRAIN:\", train_index, \"TEST:\", test_index)\n",
    "        X_train, X_test = X_feat[train_index], X_feat[test_index]\n",
    "        Y_train, Y_test = Y_feat[train_index], Y_feat[test_index]\n",
    "        rmse, mape_test, mape_train, y_pred, y_train_pred, model = ran_for(regressor,X_train, X_test, Y_train, Y_test)\n",
    "    MAPE_TEST.append(mape_test)\n",
    "    MAPE_TRAIN.append(mape_train)\n",
    "#     Y_test_array.append(Y_test)\n",
    "#     y_pred_array.append(y_pred)\n",
    "#     Y_train_ret_array.append(Y_train)\n",
    "#     y_train_pred_array.append(y_train_pred)\n",
    "    print(\"depth = \",depth, MAPE_TEST)\n",
    "# print(\"MAPE on test data is :\", MAPE_TEST)\n",
    "# print(\"MAPE on train data is :\", MAPE_TRAIN)"
   ]
  },
  {
   "cell_type": "code",
   "execution_count": 43,
   "metadata": {},
   "outputs": [
    {
     "name": "stdout",
     "output_type": "stream",
     "text": [
      "KFold(n_splits=5, random_state=None, shuffle=False)\n",
      "estimator =  10 MAPE : [3.3784099696727568]\n",
      "estimator =  15 MAPE : [3.381266113192094]\n",
      "estimator =  20 MAPE : [3.3950530168583013]\n",
      "estimator =  25 MAPE : [3.387754196791752]\n",
      "estimator =  30 MAPE : [3.378218188948]\n"
     ]
    }
   ],
   "source": [
    "kf = KFold(n_splits=5)\n",
    "kf.get_n_splits(X_feat)\n",
    "\n",
    "print(kf) \n",
    "\n",
    "\n",
    "n_estimator_list = [10,15,20,25,30]\n",
    "\n",
    "for est in n_estimator_list:\n",
    "    MAPE_TEST = []  \n",
    "    MAPE_TRAIN =[]   \n",
    "    regressor = RandomForestRegressor(max_depth= 8, n_estimators= est) \n",
    "\n",
    "    for train_index, test_index in kf.split(X_feat):\n",
    "        #print(\"TRAIN:\", train_index, \"TEST:\", test_index)\n",
    "        X_train, X_test = X_feat[train_index], X_feat[test_index]\n",
    "        Y_train, Y_test = Y_feat[train_index], Y_feat[test_index]\n",
    "        rmse, mape_test, mape_train, y_pred, y_train_pred, model = ran_for(regressor,X_train, X_test, Y_train, Y_test)\n",
    "    MAPE_TEST.append(mape_test)\n",
    "    MAPE_TRAIN.append(mape_train)\n",
    "    print(\"estimator = \",est,\"MAPE :\", MAPE_TEST)"
   ]
  },
  {
   "cell_type": "markdown",
   "metadata": {},
   "source": [
    "From the above hyper-parameter optimization, we can gather that a tree depth of 8 and a estimator of 30 gives us the least MAPE"
   ]
  },
  {
   "cell_type": "markdown",
   "metadata": {},
   "source": [
    "## Use-Case "
   ]
  },
  {
   "cell_type": "code",
   "execution_count": 82,
   "metadata": {},
   "outputs": [
    {
     "data": {
      "text/plain": [
       "array([20.49, 13.33, 21.98, 15.99, 11.99,  5.93, 10.49, 16.59,  8.9 ,\n",
       "       17.27, 17.57,  7.26, 13.33, 11.53,  8.19,  9.67, 16.29, 14.65,\n",
       "       15.61,  8.18, 11.53, 13.49, 13.33, 13.98, 10.99, 14.3 , 12.99,\n",
       "       20.49, 15.8 , 14.65, 18.49, 23.99,  9.17, 13.98, 13.35,  7.89,\n",
       "       15.61, 18.84,  7.69, 15.61, 12.05, 18.99, 16.49, 13.33, 14.33,\n",
       "       16.59,  7.26,  9.17,  8.9 , 15.61])"
      ]
     },
     "execution_count": 82,
     "metadata": {},
     "output_type": "execute_result"
    }
   ],
   "source": [
    "df = dataset.sample(n = 50, random_state = 1)\n",
    "actual = Y[df.index]\n",
    "actual"
   ]
  },
  {
   "cell_type": "code",
   "execution_count": 81,
   "metadata": {},
   "outputs": [
    {
     "data": {
      "text/plain": [
       "array([20.17223495, 13.38447085, 20.86020612, 16.74806871, 11.36377643,\n",
       "        5.69656266, 10.78632542, 16.71525976,  8.63646561, 17.64050954,\n",
       "       17.55358766,  7.33537807, 13.33071882, 11.49170619,  8.42280588,\n",
       "        9.80422935, 16.53541889, 14.93502684, 15.74491711,  8.22672148,\n",
       "       11.92665413, 13.89272387, 13.33071882, 13.67214482, 11.20931425,\n",
       "       13.69060924, 13.69060924, 19.37695763, 15.02369744, 14.62937105,\n",
       "       17.48947432, 23.77725469,  9.17996731, 13.69060924, 13.92044416,\n",
       "        7.92877383, 15.63636923, 20.04398356,  7.7941125 , 15.34876334,\n",
       "       12.23547942, 19.26151106, 16.96151566, 13.33071882, 13.69060924,\n",
       "       15.63636923,  7.21849083,  9.29162861,  8.72286398, 15.61953551])"
      ]
     },
     "execution_count": 81,
     "metadata": {},
     "output_type": "execute_result"
    }
   ],
   "source": [
    "prediction = grid_search.predict(df)\n",
    "prediction"
   ]
  },
  {
   "cell_type": "code",
   "execution_count": 83,
   "metadata": {},
   "outputs": [],
   "source": [
    "UseCase = pd.DataFrame()\n",
    "UseCase['Actual'] = actual.tolist()\n",
    "UseCase['Predicted'] = prediction.tolist()\n",
    "UseCase.to_csv('UseCase.csv')"
   ]
  },
  {
   "cell_type": "code",
   "execution_count": 98,
   "metadata": {},
   "outputs": [
    {
     "data": {
      "image/png": "[encoded data removed]",
      "text/plain": [
       "<Figure size 432x288 with 1 Axes>"
      ]
     },
     "metadata": {
      "needs_background": "light"
     },
     "output_type": "display_data"
    }
   ],
   "source": [
    "plt.scatter(np.arange(50), UseCase['Predicted'],color='blue')\n",
    "plt.scatter(np.arange(50), UseCase['Actual'],color ='red')\n",
    "plt.show()\n"
   ]
  },
  {
   "cell_type": "code",
   "execution_count": null,
   "metadata": {},
   "outputs": [],
   "source": []
  }
 ],
 "metadata": {
  "kernelspec": {
   "display_name": "Python 3",
   "language": "python",
   "name": "python3"
  },
  "language_info": {
   "codemirror_mode": {
    "name": "ipython",
    "version": 3
   },
   "file_extension": ".py",
   "mimetype": "text/x-python",
   "name": "python",
   "nbconvert_exporter": "python",
   "pygments_lexer": "ipython3",
   "version": "3.7.1"
  }
 },
 "nbformat": 4,
 "nbformat_minor": 2
}
